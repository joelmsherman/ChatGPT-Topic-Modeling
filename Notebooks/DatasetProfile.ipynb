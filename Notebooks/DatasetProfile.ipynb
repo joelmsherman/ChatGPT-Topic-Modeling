{
 "cells": [
  {
   "cell_type": "markdown",
   "id": "a9815c05",
   "metadata": {},
   "source": [
    "# Dataset Cleanup, Profiling and EDA\n",
    "This notebook provides the data cleaning, profiling and exploratory data analysis (EDA) methods used in the project.  Those methods include the following steps:\n",
    "\n",
    "1. Initial dataset import\n",
    "2. Data cleanup\n",
    "3. Profiling \n",
    "4. EDA"
   ]
  },
  {
   "cell_type": "code",
   "execution_count": 10,
   "id": "b103c3ad",
   "metadata": {},
   "outputs": [],
   "source": [
    "import pandas as pd"
   ]
  },
  {
   "cell_type": "code",
   "execution_count": 11,
   "id": "f4d96b23",
   "metadata": {},
   "outputs": [],
   "source": [
    "url = 'https://raw.githubusercontent.com/joelmsherman/ChatGPT-Topic-Modeling/master/Data/tweets.csv'\n",
    "df = pd.read_csv(url)"
   ]
  },
  {
   "cell_type": "markdown",
   "id": "8ef645a4",
   "metadata": {},
   "source": [
    "### 1. Cleanup"
   ]
  },
  {
   "cell_type": "code",
   "execution_count": 12,
   "id": "8550c0ec",
   "metadata": {},
   "outputs": [],
   "source": [
    "# Delete unnecessary columns\n",
    "df.drop(['hashtags', 'source', 'user_description', 'user_location', 'user_favourites'], axis=1, inplace=True)\n",
    "\n",
    "# Queue up datetime types\n",
    "df['date'] = pd.to_datetime(df['date'], infer_datetime_format=True, errors='coerce')\n",
    "df['user_created'] = pd.to_datetime(df['user_created'], infer_datetime_format=True, errors='coerce')\n",
    "\n",
    "# Change dtype of followers and friends to int; set Nan to zero\n",
    "df['user_followers'] = df['user_followers'].fillna(0).astype('int')\n",
    "df['user_friends'] = df['user_friends'].fillna(0).astype('int')\n",
    "\n",
    "# Add a user duration calculated column and convert the timedelta to an int\n",
    "df.insert(5, 'user_duration_days', 0)\n",
    "df['user_duration_days'] = df['date'] - df['user_created']\n",
    "df['user_duration_days'] = df['user_duration_days'].dt.days\n",
    "df['user_duration_days'] = df['user_duration_days'].fillna(0).astype('int')\n",
    "\n",
    "# Renamed 'date' column to 'tweet_date'\n",
    "df.rename(columns={'date': 'tweet_date'}, inplace=True)\n",
    "df.rename(columns={'text': 'tweet'}, inplace=True)\n",
    "\n",
    "# Deleted columns user_created\n",
    "df.drop(['user_created'], axis=1, inplace=True)"
   ]
  },
  {
   "cell_type": "code",
   "execution_count": 13,
   "id": "3cbedae4",
   "metadata": {},
   "outputs": [],
   "source": [
    "# Get rid of simple retweets\n",
    "df = df.drop_duplicates(subset=['tweet'], keep='first')"
   ]
  },
  {
   "cell_type": "markdown",
   "id": "c9e44cea",
   "metadata": {},
   "source": [
    "### 2. Profiling"
   ]
  },
  {
   "cell_type": "markdown",
   "id": "a84363c6",
   "metadata": {},
   "source": [
    "The dataset contains 60,504 unique tweets (simple retweets have been removed) referencing the hashtag #ChatGPT from 35,748 different users over the period December 5, 2002, through January 2, 2023."
   ]
  },
  {
   "cell_type": "code",
   "execution_count": 14,
   "id": "6fec26bf",
   "metadata": {},
   "outputs": [
    {
     "data": {
      "text/plain": [
       "60504"
      ]
     },
     "execution_count": 14,
     "metadata": {},
     "output_type": "execute_result"
    }
   ],
   "source": [
    "# Unique tweets\n",
    "df['tweet'].nunique()"
   ]
  },
  {
   "cell_type": "code",
   "execution_count": 15,
   "id": "1e96ec5e",
   "metadata": {},
   "outputs": [
    {
     "data": {
      "text/plain": [
       "35748"
      ]
     },
     "execution_count": 15,
     "metadata": {},
     "output_type": "execute_result"
    }
   ],
   "source": [
    "# Unique user_names\n",
    "df['user_name'].nunique()"
   ]
  },
  {
   "cell_type": "code",
   "execution_count": 16,
   "id": "7b160a95",
   "metadata": {},
   "outputs": [
    {
     "data": {
      "text/plain": [
       "Timestamp('2022-12-05 17:08:20+0000', tz='UTC')"
      ]
     },
     "execution_count": 16,
     "metadata": {},
     "output_type": "execute_result"
    }
   ],
   "source": [
    "# Earliest tweet in df\n",
    "df['tweet_date'].min()"
   ]
  },
  {
   "cell_type": "code",
   "execution_count": 17,
   "id": "dc38e35c",
   "metadata": {},
   "outputs": [
    {
     "data": {
      "text/plain": [
       "Timestamp('2023-01-02 20:50:45+0000', tz='UTC')"
      ]
     },
     "execution_count": 17,
     "metadata": {},
     "output_type": "execute_result"
    }
   ],
   "source": [
    "# Latest tweet in df\n",
    "df['tweet_date'].max()"
   ]
  },
  {
   "cell_type": "markdown",
   "id": "ee571c3e",
   "metadata": {},
   "source": [
    "### 3. EDA"
   ]
  },
  {
   "cell_type": "markdown",
   "id": "f7dfdd41",
   "metadata": {},
   "source": [
    "The vast majority of tweets occured in the early part of December, with the peak at December 6, when almost 7,000 tweets about ChatGPT were sent.  Since then, the number of tweets each day has declined significantly.  "
   ]
  },
  {
   "cell_type": "code",
   "execution_count": 29,
   "id": "ad6243bf",
   "metadata": {},
   "outputs": [],
   "source": [
    "# Create a df of tweets over time\n",
    "tmp_df = df[['tweet', 'tweet_date']].copy()\n",
    "tmp_df['Date'] = tmp_df['tweet_date'].dt.strftime(\"%Y-%m-%d\")\n",
    "pivot_table = tmp_df.pivot_table(\n",
    "    index=['Date'],\n",
    "    values=['tweet'],\n",
    "    aggfunc={'tweet': ['count']}\n",
    ")"
   ]
  },
  {
   "cell_type": "code",
   "execution_count": 30,
   "id": "fb6ae208",
   "metadata": {
    "scrolled": false
   },
   "outputs": [
    {
     "ename": "ValueError",
     "evalue": "Value of 'y' is not the name of a column in 'data_frame'. Expected one of [('Date', ''), ('tweet', 'count')] but received: tweet count",
     "output_type": "error",
     "traceback": [
      "\u001b[1;31m---------------------------------------------------------------------------\u001b[0m",
      "\u001b[1;31mValueError\u001b[0m                                Traceback (most recent call last)",
      "Cell \u001b[1;32mIn[30], line 3\u001b[0m\n\u001b[0;32m      1\u001b[0m \u001b[38;5;66;03m# Create line chart\u001b[39;00m\n\u001b[0;32m      2\u001b[0m \u001b[38;5;28;01mimport\u001b[39;00m \u001b[38;5;21;01mplotly\u001b[39;00m\u001b[38;5;21;01m.\u001b[39;00m\u001b[38;5;21;01mexpress\u001b[39;00m \u001b[38;5;28;01mas\u001b[39;00m \u001b[38;5;21;01mpx\u001b[39;00m\n\u001b[1;32m----> 3\u001b[0m fig \u001b[38;5;241m=\u001b[39m \u001b[43mpx\u001b[49m\u001b[38;5;241;43m.\u001b[39;49m\u001b[43mline\u001b[49m\u001b[43m(\u001b[49m\u001b[43mdf_pivot\u001b[49m\u001b[43m,\u001b[49m\u001b[43m \u001b[49m\u001b[43mx\u001b[49m\u001b[38;5;241;43m=\u001b[39;49m\u001b[38;5;124;43m'\u001b[39;49m\u001b[38;5;124;43mDate\u001b[39;49m\u001b[38;5;124;43m'\u001b[39;49m\u001b[43m,\u001b[49m\u001b[43m \u001b[49m\u001b[43my\u001b[49m\u001b[38;5;241;43m=\u001b[39;49m\u001b[38;5;124;43m'\u001b[39;49m\u001b[38;5;124;43mtweet count\u001b[39;49m\u001b[38;5;124;43m'\u001b[39;49m\u001b[43m,\u001b[49m\u001b[43m \u001b[49m\u001b[43mline_shape\u001b[49m\u001b[38;5;241;43m=\u001b[39;49m\u001b[38;5;124;43m'\u001b[39;49m\u001b[38;5;124;43mspline\u001b[39;49m\u001b[38;5;124;43m'\u001b[39;49m\u001b[43m)\u001b[49m\n\u001b[0;32m      4\u001b[0m fig\u001b[38;5;241m.\u001b[39mupdate_layout(\n\u001b[0;32m      5\u001b[0m     title\u001b[38;5;241m=\u001b[39m\u001b[38;5;124m'\u001b[39m\u001b[38;5;124mTweets Over Time\u001b[39m\u001b[38;5;124m'\u001b[39m, \n\u001b[0;32m      6\u001b[0m     xaxis \u001b[38;5;241m=\u001b[39m \u001b[38;5;28mdict\u001b[39m(\n\u001b[1;32m   (...)\u001b[0m\n\u001b[0;32m     19\u001b[0m     paper_bgcolor\u001b[38;5;241m=\u001b[39m\u001b[38;5;124m'\u001b[39m\u001b[38;5;124m#FFFFFF\u001b[39m\u001b[38;5;124m'\u001b[39m\n\u001b[0;32m     20\u001b[0m )\n\u001b[0;32m     21\u001b[0m fig\u001b[38;5;241m.\u001b[39mshow(renderer\u001b[38;5;241m=\u001b[39m\u001b[38;5;124m\"\u001b[39m\u001b[38;5;124miframe\u001b[39m\u001b[38;5;124m\"\u001b[39m)\n",
      "File \u001b[1;32m~\\anaconda3\\envs\\PyCaret\\lib\\site-packages\\plotly\\express\\_chart_types.py:264\u001b[0m, in \u001b[0;36mline\u001b[1;34m(data_frame, x, y, line_group, color, line_dash, symbol, hover_name, hover_data, custom_data, text, facet_row, facet_col, facet_col_wrap, facet_row_spacing, facet_col_spacing, error_x, error_x_minus, error_y, error_y_minus, animation_frame, animation_group, category_orders, labels, orientation, color_discrete_sequence, color_discrete_map, line_dash_sequence, line_dash_map, symbol_sequence, symbol_map, markers, log_x, log_y, range_x, range_y, line_shape, render_mode, title, template, width, height)\u001b[0m\n\u001b[0;32m    216\u001b[0m \u001b[38;5;28;01mdef\u001b[39;00m \u001b[38;5;21mline\u001b[39m(\n\u001b[0;32m    217\u001b[0m     data_frame\u001b[38;5;241m=\u001b[39m\u001b[38;5;28;01mNone\u001b[39;00m,\n\u001b[0;32m    218\u001b[0m     x\u001b[38;5;241m=\u001b[39m\u001b[38;5;28;01mNone\u001b[39;00m,\n\u001b[1;32m   (...)\u001b[0m\n\u001b[0;32m    258\u001b[0m     height\u001b[38;5;241m=\u001b[39m\u001b[38;5;28;01mNone\u001b[39;00m,\n\u001b[0;32m    259\u001b[0m ) \u001b[38;5;241m-\u001b[39m\u001b[38;5;241m>\u001b[39m go\u001b[38;5;241m.\u001b[39mFigure:\n\u001b[0;32m    260\u001b[0m     \u001b[38;5;124;03m\"\"\"\u001b[39;00m\n\u001b[0;32m    261\u001b[0m \u001b[38;5;124;03m    In a 2D line plot, each row of `data_frame` is represented as vertex of\u001b[39;00m\n\u001b[0;32m    262\u001b[0m \u001b[38;5;124;03m    a polyline mark in 2D space.\u001b[39;00m\n\u001b[0;32m    263\u001b[0m \u001b[38;5;124;03m    \"\"\"\u001b[39;00m\n\u001b[1;32m--> 264\u001b[0m     \u001b[38;5;28;01mreturn\u001b[39;00m \u001b[43mmake_figure\u001b[49m\u001b[43m(\u001b[49m\u001b[43margs\u001b[49m\u001b[38;5;241;43m=\u001b[39;49m\u001b[38;5;28;43mlocals\u001b[39;49m\u001b[43m(\u001b[49m\u001b[43m)\u001b[49m\u001b[43m,\u001b[49m\u001b[43m \u001b[49m\u001b[43mconstructor\u001b[49m\u001b[38;5;241;43m=\u001b[39;49m\u001b[43mgo\u001b[49m\u001b[38;5;241;43m.\u001b[39;49m\u001b[43mScatter\u001b[49m\u001b[43m)\u001b[49m\n",
      "File \u001b[1;32m~\\anaconda3\\envs\\PyCaret\\lib\\site-packages\\plotly\\express\\_core.py:1990\u001b[0m, in \u001b[0;36mmake_figure\u001b[1;34m(args, constructor, trace_patch, layout_patch)\u001b[0m\n\u001b[0;32m   1987\u001b[0m layout_patch \u001b[38;5;241m=\u001b[39m layout_patch \u001b[38;5;129;01mor\u001b[39;00m {}\n\u001b[0;32m   1988\u001b[0m apply_default_cascade(args)\n\u001b[1;32m-> 1990\u001b[0m args \u001b[38;5;241m=\u001b[39m \u001b[43mbuild_dataframe\u001b[49m\u001b[43m(\u001b[49m\u001b[43margs\u001b[49m\u001b[43m,\u001b[49m\u001b[43m \u001b[49m\u001b[43mconstructor\u001b[49m\u001b[43m)\u001b[49m\n\u001b[0;32m   1991\u001b[0m \u001b[38;5;28;01mif\u001b[39;00m constructor \u001b[38;5;129;01min\u001b[39;00m [go\u001b[38;5;241m.\u001b[39mTreemap, go\u001b[38;5;241m.\u001b[39mSunburst, go\u001b[38;5;241m.\u001b[39mIcicle] \u001b[38;5;129;01mand\u001b[39;00m args[\u001b[38;5;124m\"\u001b[39m\u001b[38;5;124mpath\u001b[39m\u001b[38;5;124m\"\u001b[39m] \u001b[38;5;129;01mis\u001b[39;00m \u001b[38;5;129;01mnot\u001b[39;00m \u001b[38;5;28;01mNone\u001b[39;00m:\n\u001b[0;32m   1992\u001b[0m     args \u001b[38;5;241m=\u001b[39m process_dataframe_hierarchy(args)\n",
      "File \u001b[1;32m~\\anaconda3\\envs\\PyCaret\\lib\\site-packages\\plotly\\express\\_core.py:1405\u001b[0m, in \u001b[0;36mbuild_dataframe\u001b[1;34m(args, constructor)\u001b[0m\n\u001b[0;32m   1402\u001b[0m     args[\u001b[38;5;124m\"\u001b[39m\u001b[38;5;124mcolor\u001b[39m\u001b[38;5;124m\"\u001b[39m] \u001b[38;5;241m=\u001b[39m \u001b[38;5;28;01mNone\u001b[39;00m\n\u001b[0;32m   1403\u001b[0m \u001b[38;5;66;03m# now that things have been prepped, we do the systematic rewriting of `args`\u001b[39;00m\n\u001b[1;32m-> 1405\u001b[0m df_output, wide_id_vars \u001b[38;5;241m=\u001b[39m \u001b[43mprocess_args_into_dataframe\u001b[49m\u001b[43m(\u001b[49m\n\u001b[0;32m   1406\u001b[0m \u001b[43m    \u001b[49m\u001b[43margs\u001b[49m\u001b[43m,\u001b[49m\u001b[43m \u001b[49m\u001b[43mwide_mode\u001b[49m\u001b[43m,\u001b[49m\u001b[43m \u001b[49m\u001b[43mvar_name\u001b[49m\u001b[43m,\u001b[49m\u001b[43m \u001b[49m\u001b[43mvalue_name\u001b[49m\n\u001b[0;32m   1407\u001b[0m \u001b[43m\u001b[49m\u001b[43m)\u001b[49m\n\u001b[0;32m   1409\u001b[0m \u001b[38;5;66;03m# now that `df_output` exists and `args` contains only references, we complete\u001b[39;00m\n\u001b[0;32m   1410\u001b[0m \u001b[38;5;66;03m# the special-case and wide-mode handling by further rewriting args and/or mutating\u001b[39;00m\n\u001b[0;32m   1411\u001b[0m \u001b[38;5;66;03m# df_output\u001b[39;00m\n\u001b[0;32m   1413\u001b[0m count_name \u001b[38;5;241m=\u001b[39m _escape_col_name(df_output, \u001b[38;5;124m\"\u001b[39m\u001b[38;5;124mcount\u001b[39m\u001b[38;5;124m\"\u001b[39m, [var_name, value_name])\n",
      "File \u001b[1;32m~\\anaconda3\\envs\\PyCaret\\lib\\site-packages\\plotly\\express\\_core.py:1207\u001b[0m, in \u001b[0;36mprocess_args_into_dataframe\u001b[1;34m(args, wide_mode, var_name, value_name)\u001b[0m\n\u001b[0;32m   1205\u001b[0m         \u001b[38;5;28;01mif\u001b[39;00m argument \u001b[38;5;241m==\u001b[39m \u001b[38;5;124m\"\u001b[39m\u001b[38;5;124mindex\u001b[39m\u001b[38;5;124m\"\u001b[39m:\n\u001b[0;32m   1206\u001b[0m             err_msg \u001b[38;5;241m+\u001b[39m\u001b[38;5;241m=\u001b[39m \u001b[38;5;124m\"\u001b[39m\u001b[38;5;130;01m\\n\u001b[39;00m\u001b[38;5;124m To use the index, pass it in directly as `df.index`.\u001b[39m\u001b[38;5;124m\"\u001b[39m\n\u001b[1;32m-> 1207\u001b[0m         \u001b[38;5;28;01mraise\u001b[39;00m \u001b[38;5;167;01mValueError\u001b[39;00m(err_msg)\n\u001b[0;32m   1208\u001b[0m \u001b[38;5;28;01melif\u001b[39;00m length \u001b[38;5;129;01mand\u001b[39;00m \u001b[38;5;28mlen\u001b[39m(df_input[argument]) \u001b[38;5;241m!=\u001b[39m length:\n\u001b[0;32m   1209\u001b[0m     \u001b[38;5;28;01mraise\u001b[39;00m \u001b[38;5;167;01mValueError\u001b[39;00m(\n\u001b[0;32m   1210\u001b[0m         \u001b[38;5;124m\"\u001b[39m\u001b[38;5;124mAll arguments should have the same length. \u001b[39m\u001b[38;5;124m\"\u001b[39m\n\u001b[0;32m   1211\u001b[0m         \u001b[38;5;124m\"\u001b[39m\u001b[38;5;124mThe length of column argument `df[\u001b[39m\u001b[38;5;132;01m%s\u001b[39;00m\u001b[38;5;124m]` is \u001b[39m\u001b[38;5;132;01m%d\u001b[39;00m\u001b[38;5;124m, whereas the \u001b[39m\u001b[38;5;124m\"\u001b[39m\n\u001b[1;32m   (...)\u001b[0m\n\u001b[0;32m   1218\u001b[0m         )\n\u001b[0;32m   1219\u001b[0m     )\n",
      "\u001b[1;31mValueError\u001b[0m: Value of 'y' is not the name of a column in 'data_frame'. Expected one of [('Date', ''), ('tweet', 'count')] but received: tweet count"
     ]
    }
   ],
   "source": [
    "# Create line chart\n",
    "import plotly.express as px\n",
    "fig = px.line(df_pivot, x='Date', y='tweet count', line_shape='spline')\n",
    "fig.update_layout(\n",
    "    title='Tweets Over Time', \n",
    "    xaxis = dict(\n",
    "        showgrid=True, \n",
    "        rangeslider = dict(\n",
    "            visible=True, \n",
    "            thickness=0.05\n",
    "        )\n",
    "    ), \n",
    "    yaxis = dict(\n",
    "        showgrid=True\n",
    "    ), \n",
    "    legend = dict(\n",
    "        orientation='v'\n",
    "    ), \n",
    "    paper_bgcolor='#FFFFFF'\n",
    ")\n",
    "fig.show(renderer=\"iframe\")"
   ]
  },
  {
   "cell_type": "markdown",
   "id": "0e5e5975",
   "metadata": {},
   "source": [
    "Tweets mostly came from newer users to Twitter, but the distribution of user duration was bi-modal.  The vast majority of tweets were from brand new twitter users, but a significant proportion of tweets also came from users who've been on Twitter for 5000 days or more."
   ]
  },
  {
   "cell_type": "code",
   "execution_count": null,
   "id": "49ab2cc8",
   "metadata": {},
   "outputs": [],
   "source": [
    "fig = px.histogram(df, x='user_duration_days', histfunc='count')\n",
    "fig.update_layout(\n",
    "    title='Distribution of User Time on Twitter', \n",
    "    xaxis = dict(\n",
    "        showgrid=True, \n",
    "        rangeslider = dict(\n",
    "            visible=True, \n",
    "            thickness=0.05\n",
    "        )\n",
    "    ), \n",
    "    yaxis = dict(\n",
    "        showgrid=True\n",
    "    ), \n",
    "    legend = dict(\n",
    "        orientation='v'\n",
    "    ), \n",
    "    barmode='group', \n",
    "    paper_bgcolor='#FFFFFF'\n",
    ")\n",
    "fig.show(renderer=\"iframe\")"
   ]
  },
  {
   "cell_type": "markdown",
   "id": "3662ade2",
   "metadata": {},
   "source": [
    "Of the more than 60,000 tweets sent, only around 1,500 were from verified Twitter users.  Verified twitter users sending these tweets had more followers (147K vs. 3K), more friends (7K vs. 1K), and have been on Twitter longer (4600 vs. 2800 days) than non-Verified twitter users who sent the VAST majority of tweets about ChatGPT.  "
   ]
  },
  {
   "cell_type": "code",
   "execution_count": null,
   "id": "db1dc83a",
   "metadata": {},
   "outputs": [],
   "source": [
    " # Pivoted into df\n",
    "tmp_df = df[['user_verified', 'tweet']].copy()\n",
    "pivot_table = tmp_df.pivot_table(\n",
    "    index=['user_verified'],\n",
    "    values=['tweet'],\n",
    "    aggfunc={'tweet': ['count']}\n",
    ")\n",
    "pivot_table = pivot_table.set_axis([flatten_column_header(col) for col in pivot_table.keys()], axis=1)\n",
    "df_pivot = pivot_table.reset_index()\n",
    "\n",
    "# Deleted 1 row in df_pivot\n",
    "df_pivot.drop(labels=[0], inplace=True)\n",
    "\n",
    "# Pivoted into df\n",
    "tmp_df = df[['user_followers', 'user_verified']].copy()\n",
    "pivot_table = tmp_df.pivot_table(\n",
    "    index=['user_verified'],\n",
    "    values=['user_followers'],\n",
    "    aggfunc={'user_followers': ['mean']}\n",
    ")\n",
    "pivot_table = pivot_table.set_axis([flatten_column_header(col) for col in pivot_table.keys()], axis=1)\n",
    "df_pivot_1 = pivot_table.reset_index()\n",
    "\n",
    "# Deleted 1 row in df_pivot_1\n",
    "df_pivot_1.drop(labels=[0], inplace=True)\n",
    "\n",
    "# Pivoted into df\n",
    "tmp_df = df[['user_friends', 'user_verified']].copy()\n",
    "pivot_table = tmp_df.pivot_table(\n",
    "    index=['user_verified'],\n",
    "    values=['user_friends'],\n",
    "    aggfunc={'user_friends': ['mean']}\n",
    ")\n",
    "pivot_table = pivot_table.set_axis([flatten_column_header(col) for col in pivot_table.keys()], axis=1)\n",
    "df_pivot_2 = pivot_table.reset_index()\n",
    "\n",
    "# Deleted 1 row in df_pivot_2\n",
    "df_pivot_2.drop(labels=[0], inplace=True)\n",
    "\n",
    "# Pivoted into df\n",
    "tmp_df = df[['user_verified', 'user_duration_days']].copy()\n",
    "pivot_table = tmp_df.pivot_table(\n",
    "    index=['user_verified'],\n",
    "    values=['user_duration_days'],\n",
    "    aggfunc={'user_duration_days': ['mean']}\n",
    ")\n",
    "pivot_table = pivot_table.set_axis([flatten_column_header(col) for col in pivot_table.keys()], axis=1)\n",
    "df_pivot_3 = pivot_table.reset_index()\n",
    "\n",
    "# Deleted 1 row in df_pivot_3\n",
    "df_pivot_3.drop(labels=[0], inplace=True)\n",
    "\n",
    "# Merged df_pivot and df_pivot_1 into df6\n",
    "temp_df = df_pivot_1.drop_duplicates(subset=['user_verified']) # Remove duplicates so lookup merge only returns first match\n",
    "df6 = df_pivot.merge(temp_df, left_on=['user_verified'], right_on=['user_verified'], how='left', suffixes=['_df_pivot', '_df_pivot_1'])\n",
    "\n",
    "# Merged df6 and df_pivot_2 into df7\n",
    "temp_df = df_pivot_2.drop_duplicates(subset=['user_verified']) # Remove duplicates so lookup merge only returns first match\n",
    "df7 = df6.merge(temp_df, left_on=['user_verified'], right_on=['user_verified'], how='left', suffixes=['_df6', '_df_pivot_2'])\n",
    "\n",
    "# Merged df7 and df_pivot_3 into df8\n",
    "temp_df = df_pivot_3.drop_duplicates(subset=['user_verified']) # Remove duplicates so lookup merge only returns first match\n",
    "df8 = df7.merge(temp_df, left_on=['user_verified'], right_on=['user_verified'], how='left', suffixes=['_df7', '_df_pivot_3'])\n",
    "\n",
    "# Renamed df8 to Summary_Stats\n",
    "Summary_Stats = df8\n",
    "Summary_Stats\n"
   ]
  },
  {
   "cell_type": "code",
   "execution_count": null,
   "id": "ae19a331",
   "metadata": {},
   "outputs": [],
   "source": []
  }
 ],
 "metadata": {
  "kernelspec": {
   "display_name": "Python 3 (ipykernel)",
   "language": "python",
   "name": "python3"
  },
  "language_info": {
   "codemirror_mode": {
    "name": "ipython",
    "version": 3
   },
   "file_extension": ".py",
   "mimetype": "text/x-python",
   "name": "python",
   "nbconvert_exporter": "python",
   "pygments_lexer": "ipython3",
   "version": "3.8.15"
  }
 },
 "nbformat": 4,
 "nbformat_minor": 5
}
